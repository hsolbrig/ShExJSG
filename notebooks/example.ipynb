{
 "cells": [
  {
   "cell_type": "code",
   "execution_count": 1,
   "metadata": {},
   "outputs": [
    {
     "name": "stdout",
     "output_type": "stream",
     "text": [
      "True\n{\n   \"@context\": \"http://www.w3.org/ns/shex.jsonld\",\n   \"start\": \"blabla\",\n   \"type\": \"Schema\"\n}\n"
     ]
    }
   ],
   "source": [
    "from ShExJSG import Schema\n",
    "\n",
    "schema = Schema()\n",
    "\n",
    "schema.start = \"blabla\"\n",
    "print(schema._is_valid())\n",
    "print(schema._as_json_dumps())"
   ]
  },
  {
   "cell_type": "code",
   "execution_count": 4,
   "metadata": {},
   "outputs": [],
   "source": []
  },
  {
   "cell_type": "code",
   "execution_count": null,
   "metadata": {},
   "outputs": [],
   "source": []
  }
 ],
 "metadata": {
  "kernelspec": {
   "display_name": "Python 3",
   "language": "python",
   "name": "python3"
  },
  "language_info": {
   "codemirror_mode": {
    "name": "ipython",
    "version": 3
   },
   "file_extension": ".py",
   "mimetype": "text/x-python",
   "name": "python",
   "nbconvert_exporter": "python",
   "pygments_lexer": "ipython3",
   "version": "3.6.4"
  }
 },
 "nbformat": 4,
 "nbformat_minor": 1
}

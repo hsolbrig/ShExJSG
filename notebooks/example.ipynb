{
 "cells": [
  {
   "cell_type": "code",
   "execution_count": 1,
   "metadata": {},
   "outputs": [
    {
     "name": "stdout",
     "output_type": "stream",
     "text": [
      "True\n",
      "{\n",
      "   \"type\": \"Schema\",\n",
      "   \"@context\": \"http://www.w3.org/ns/shex.jsonld\",\n",
      "   \"start\": \"blabla\"\n",
      "}\n",
      "\n",
      "START= @<blabla>\n",
      "\n"
     ]
    }
   ],
   "source": [
    "from ShExJSG import Schema, ShExC\n",
    "from pyjsg.jsglib.loader import is_valid\n",
    "\n",
    "schema = Schema()\n",
    "\n",
    "schema.start = \"blabla\"\n",
    "print(is_valid(schema))\n",
    "print(schema._as_json_dumps())\n",
    "print(str(ShExC(schema)))"
   ]
  },
  {
   "cell_type": "code",
   "execution_count": 2,
   "metadata": {},
   "outputs": [
    {
     "name": "stdout",
     "output_type": "stream",
     "text": [
      "\n",
      "START= @<blabla>\n",
      "\n"
     ]
    }
   ],
   "source": [
    "print(ShExC(schema))"
   ]
  },
  {
   "cell_type": "code",
   "execution_count": null,
   "metadata": {},
   "outputs": [],
   "source": []
  }
 ],
 "metadata": {
  "kernelspec": {
   "display_name": "Python 3",
   "language": "python",
   "name": "python3"
  },
  "language_info": {
   "codemirror_mode": {
    "name": "ipython",
    "version": 3
   },
   "file_extension": ".py",
   "mimetype": "text/x-python",
   "name": "python",
   "nbconvert_exporter": "python",
   "pygments_lexer": "ipython3",
   "version": "3.7.2"
  }
 },
 "nbformat": 4,
 "nbformat_minor": 1
}
